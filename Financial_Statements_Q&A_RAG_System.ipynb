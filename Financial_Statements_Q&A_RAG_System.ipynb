{
  "nbformat": 4,
  "nbformat_minor": 0,
  "metadata": {
    "colab": {
      "provenance": []
    },
    "kernelspec": {
      "name": "python3",
      "display_name": "Python 3"
    },
    "language_info": {
      "name": "python"
    }
  },
  "cells": [
    {
      "cell_type": "code",
      "source": [
        "!pip install langchain langchain_google_genai PyPDF2 faiss-cpu langchain-community"
      ],
      "metadata": {
        "colab": {
          "base_uri": "https://localhost:8080/"
        },
        "collapsed": true,
        "id": "oFYYYO2ttY5W",
        "outputId": "d4d38d21-bc99-433c-a65c-fd937233db25"
      },
      "execution_count": 1,
      "outputs": [
        {
          "output_type": "stream",
          "name": "stdout",
          "text": [
            "Requirement already satisfied: langchain in /usr/local/lib/python3.11/dist-packages (0.3.15)\n",
            "Collecting langchain_google_genai\n",
            "  Downloading langchain_google_genai-2.0.9-py3-none-any.whl.metadata (3.6 kB)\n",
            "Collecting PyPDF2\n",
            "  Downloading pypdf2-3.0.1-py3-none-any.whl.metadata (6.8 kB)\n",
            "Collecting faiss-cpu\n",
            "  Downloading faiss_cpu-1.9.0.post1-cp311-cp311-manylinux_2_17_x86_64.manylinux2014_x86_64.whl.metadata (4.4 kB)\n",
            "Collecting langchain-community\n",
            "  Downloading langchain_community-0.3.15-py3-none-any.whl.metadata (2.9 kB)\n",
            "Requirement already satisfied: PyYAML>=5.3 in /usr/local/lib/python3.11/dist-packages (from langchain) (6.0.2)\n",
            "Requirement already satisfied: SQLAlchemy<3,>=1.4 in /usr/local/lib/python3.11/dist-packages (from langchain) (2.0.37)\n",
            "Requirement already satisfied: aiohttp<4.0.0,>=3.8.3 in /usr/local/lib/python3.11/dist-packages (from langchain) (3.11.11)\n",
            "Requirement already satisfied: langchain-core<0.4.0,>=0.3.31 in /usr/local/lib/python3.11/dist-packages (from langchain) (0.3.31)\n",
            "Requirement already satisfied: langchain-text-splitters<0.4.0,>=0.3.3 in /usr/local/lib/python3.11/dist-packages (from langchain) (0.3.5)\n",
            "Requirement already satisfied: langsmith<0.4,>=0.1.17 in /usr/local/lib/python3.11/dist-packages (from langchain) (0.3.0)\n",
            "Requirement already satisfied: numpy<2,>=1.22.4 in /usr/local/lib/python3.11/dist-packages (from langchain) (1.26.4)\n",
            "Requirement already satisfied: pydantic<3.0.0,>=2.7.4 in /usr/local/lib/python3.11/dist-packages (from langchain) (2.10.5)\n",
            "Requirement already satisfied: requests<3,>=2 in /usr/local/lib/python3.11/dist-packages (from langchain) (2.32.3)\n",
            "Requirement already satisfied: tenacity!=8.4.0,<10,>=8.1.0 in /usr/local/lib/python3.11/dist-packages (from langchain) (9.0.0)\n",
            "Collecting filetype<2.0.0,>=1.2.0 (from langchain_google_genai)\n",
            "  Downloading filetype-1.2.0-py2.py3-none-any.whl.metadata (6.5 kB)\n",
            "Requirement already satisfied: google-generativeai<0.9.0,>=0.8.0 in /usr/local/lib/python3.11/dist-packages (from langchain_google_genai) (0.8.4)\n",
            "Requirement already satisfied: packaging in /usr/local/lib/python3.11/dist-packages (from faiss-cpu) (24.2)\n",
            "Collecting dataclasses-json<0.7,>=0.5.7 (from langchain-community)\n",
            "  Downloading dataclasses_json-0.6.7-py3-none-any.whl.metadata (25 kB)\n",
            "Collecting httpx-sse<0.5.0,>=0.4.0 (from langchain-community)\n",
            "  Downloading httpx_sse-0.4.0-py3-none-any.whl.metadata (9.0 kB)\n",
            "Collecting pydantic-settings<3.0.0,>=2.4.0 (from langchain-community)\n",
            "  Downloading pydantic_settings-2.7.1-py3-none-any.whl.metadata (3.5 kB)\n",
            "Requirement already satisfied: aiohappyeyeballs>=2.3.0 in /usr/local/lib/python3.11/dist-packages (from aiohttp<4.0.0,>=3.8.3->langchain) (2.4.4)\n",
            "Requirement already satisfied: aiosignal>=1.1.2 in /usr/local/lib/python3.11/dist-packages (from aiohttp<4.0.0,>=3.8.3->langchain) (1.3.2)\n",
            "Requirement already satisfied: attrs>=17.3.0 in /usr/local/lib/python3.11/dist-packages (from aiohttp<4.0.0,>=3.8.3->langchain) (24.3.0)\n",
            "Requirement already satisfied: frozenlist>=1.1.1 in /usr/local/lib/python3.11/dist-packages (from aiohttp<4.0.0,>=3.8.3->langchain) (1.5.0)\n",
            "Requirement already satisfied: multidict<7.0,>=4.5 in /usr/local/lib/python3.11/dist-packages (from aiohttp<4.0.0,>=3.8.3->langchain) (6.1.0)\n",
            "Requirement already satisfied: propcache>=0.2.0 in /usr/local/lib/python3.11/dist-packages (from aiohttp<4.0.0,>=3.8.3->langchain) (0.2.1)\n",
            "Requirement already satisfied: yarl<2.0,>=1.17.0 in /usr/local/lib/python3.11/dist-packages (from aiohttp<4.0.0,>=3.8.3->langchain) (1.18.3)\n",
            "Collecting marshmallow<4.0.0,>=3.18.0 (from dataclasses-json<0.7,>=0.5.7->langchain-community)\n",
            "  Downloading marshmallow-3.26.0-py3-none-any.whl.metadata (7.3 kB)\n",
            "Collecting typing-inspect<1,>=0.4.0 (from dataclasses-json<0.7,>=0.5.7->langchain-community)\n",
            "  Downloading typing_inspect-0.9.0-py3-none-any.whl.metadata (1.5 kB)\n",
            "Requirement already satisfied: google-ai-generativelanguage==0.6.15 in /usr/local/lib/python3.11/dist-packages (from google-generativeai<0.9.0,>=0.8.0->langchain_google_genai) (0.6.15)\n",
            "Requirement already satisfied: google-api-core in /usr/local/lib/python3.11/dist-packages (from google-generativeai<0.9.0,>=0.8.0->langchain_google_genai) (2.19.2)\n",
            "Requirement already satisfied: google-api-python-client in /usr/local/lib/python3.11/dist-packages (from google-generativeai<0.9.0,>=0.8.0->langchain_google_genai) (2.155.0)\n",
            "Requirement already satisfied: google-auth>=2.15.0 in /usr/local/lib/python3.11/dist-packages (from google-generativeai<0.9.0,>=0.8.0->langchain_google_genai) (2.27.0)\n",
            "Requirement already satisfied: protobuf in /usr/local/lib/python3.11/dist-packages (from google-generativeai<0.9.0,>=0.8.0->langchain_google_genai) (4.25.5)\n",
            "Requirement already satisfied: tqdm in /usr/local/lib/python3.11/dist-packages (from google-generativeai<0.9.0,>=0.8.0->langchain_google_genai) (4.67.1)\n",
            "Requirement already satisfied: typing-extensions in /usr/local/lib/python3.11/dist-packages (from google-generativeai<0.9.0,>=0.8.0->langchain_google_genai) (4.12.2)\n",
            "Requirement already satisfied: proto-plus<2.0.0dev,>=1.22.3 in /usr/local/lib/python3.11/dist-packages (from google-ai-generativelanguage==0.6.15->google-generativeai<0.9.0,>=0.8.0->langchain_google_genai) (1.25.0)\n",
            "Requirement already satisfied: jsonpatch<2.0,>=1.33 in /usr/local/lib/python3.11/dist-packages (from langchain-core<0.4.0,>=0.3.31->langchain) (1.33)\n",
            "Requirement already satisfied: httpx<1,>=0.23.0 in /usr/local/lib/python3.11/dist-packages (from langsmith<0.4,>=0.1.17->langchain) (0.28.1)\n",
            "Requirement already satisfied: orjson<4.0.0,>=3.9.14 in /usr/local/lib/python3.11/dist-packages (from langsmith<0.4,>=0.1.17->langchain) (3.10.15)\n",
            "Requirement already satisfied: requests-toolbelt<2.0.0,>=1.0.0 in /usr/local/lib/python3.11/dist-packages (from langsmith<0.4,>=0.1.17->langchain) (1.0.0)\n",
            "Requirement already satisfied: zstandard<0.24.0,>=0.23.0 in /usr/local/lib/python3.11/dist-packages (from langsmith<0.4,>=0.1.17->langchain) (0.23.0)\n",
            "Requirement already satisfied: annotated-types>=0.6.0 in /usr/local/lib/python3.11/dist-packages (from pydantic<3.0.0,>=2.7.4->langchain) (0.7.0)\n",
            "Requirement already satisfied: pydantic-core==2.27.2 in /usr/local/lib/python3.11/dist-packages (from pydantic<3.0.0,>=2.7.4->langchain) (2.27.2)\n",
            "Collecting python-dotenv>=0.21.0 (from pydantic-settings<3.0.0,>=2.4.0->langchain-community)\n",
            "  Downloading python_dotenv-1.0.1-py3-none-any.whl.metadata (23 kB)\n",
            "Requirement already satisfied: charset-normalizer<4,>=2 in /usr/local/lib/python3.11/dist-packages (from requests<3,>=2->langchain) (3.4.1)\n",
            "Requirement already satisfied: idna<4,>=2.5 in /usr/local/lib/python3.11/dist-packages (from requests<3,>=2->langchain) (3.10)\n",
            "Requirement already satisfied: urllib3<3,>=1.21.1 in /usr/local/lib/python3.11/dist-packages (from requests<3,>=2->langchain) (2.3.0)\n",
            "Requirement already satisfied: certifi>=2017.4.17 in /usr/local/lib/python3.11/dist-packages (from requests<3,>=2->langchain) (2024.12.14)\n",
            "Requirement already satisfied: greenlet!=0.4.17 in /usr/local/lib/python3.11/dist-packages (from SQLAlchemy<3,>=1.4->langchain) (3.1.1)\n",
            "Requirement already satisfied: googleapis-common-protos<2.0.dev0,>=1.56.2 in /usr/local/lib/python3.11/dist-packages (from google-api-core->google-generativeai<0.9.0,>=0.8.0->langchain_google_genai) (1.66.0)\n",
            "Requirement already satisfied: cachetools<6.0,>=2.0.0 in /usr/local/lib/python3.11/dist-packages (from google-auth>=2.15.0->google-generativeai<0.9.0,>=0.8.0->langchain_google_genai) (5.5.1)\n",
            "Requirement already satisfied: pyasn1-modules>=0.2.1 in /usr/local/lib/python3.11/dist-packages (from google-auth>=2.15.0->google-generativeai<0.9.0,>=0.8.0->langchain_google_genai) (0.4.1)\n",
            "Requirement already satisfied: rsa<5,>=3.1.4 in /usr/local/lib/python3.11/dist-packages (from google-auth>=2.15.0->google-generativeai<0.9.0,>=0.8.0->langchain_google_genai) (4.9)\n",
            "Requirement already satisfied: anyio in /usr/local/lib/python3.11/dist-packages (from httpx<1,>=0.23.0->langsmith<0.4,>=0.1.17->langchain) (3.7.1)\n",
            "Requirement already satisfied: httpcore==1.* in /usr/local/lib/python3.11/dist-packages (from httpx<1,>=0.23.0->langsmith<0.4,>=0.1.17->langchain) (1.0.7)\n",
            "Requirement already satisfied: h11<0.15,>=0.13 in /usr/local/lib/python3.11/dist-packages (from httpcore==1.*->httpx<1,>=0.23.0->langsmith<0.4,>=0.1.17->langchain) (0.14.0)\n",
            "Requirement already satisfied: jsonpointer>=1.9 in /usr/local/lib/python3.11/dist-packages (from jsonpatch<2.0,>=1.33->langchain-core<0.4.0,>=0.3.31->langchain) (3.0.0)\n",
            "Collecting mypy-extensions>=0.3.0 (from typing-inspect<1,>=0.4.0->dataclasses-json<0.7,>=0.5.7->langchain-community)\n",
            "  Downloading mypy_extensions-1.0.0-py3-none-any.whl.metadata (1.1 kB)\n",
            "Requirement already satisfied: httplib2<1.dev0,>=0.19.0 in /usr/local/lib/python3.11/dist-packages (from google-api-python-client->google-generativeai<0.9.0,>=0.8.0->langchain_google_genai) (0.22.0)\n",
            "Requirement already satisfied: google-auth-httplib2<1.0.0,>=0.2.0 in /usr/local/lib/python3.11/dist-packages (from google-api-python-client->google-generativeai<0.9.0,>=0.8.0->langchain_google_genai) (0.2.0)\n",
            "Requirement already satisfied: uritemplate<5,>=3.0.1 in /usr/local/lib/python3.11/dist-packages (from google-api-python-client->google-generativeai<0.9.0,>=0.8.0->langchain_google_genai) (4.1.1)\n",
            "Requirement already satisfied: grpcio<2.0dev,>=1.33.2 in /usr/local/lib/python3.11/dist-packages (from google-api-core[grpc]!=2.0.*,!=2.1.*,!=2.10.*,!=2.2.*,!=2.3.*,!=2.4.*,!=2.5.*,!=2.6.*,!=2.7.*,!=2.8.*,!=2.9.*,<3.0.0dev,>=1.34.1->google-ai-generativelanguage==0.6.15->google-generativeai<0.9.0,>=0.8.0->langchain_google_genai) (1.69.0)\n",
            "Requirement already satisfied: grpcio-status<2.0.dev0,>=1.33.2 in /usr/local/lib/python3.11/dist-packages (from google-api-core[grpc]!=2.0.*,!=2.1.*,!=2.10.*,!=2.2.*,!=2.3.*,!=2.4.*,!=2.5.*,!=2.6.*,!=2.7.*,!=2.8.*,!=2.9.*,<3.0.0dev,>=1.34.1->google-ai-generativelanguage==0.6.15->google-generativeai<0.9.0,>=0.8.0->langchain_google_genai) (1.62.3)\n",
            "Requirement already satisfied: pyparsing!=3.0.0,!=3.0.1,!=3.0.2,!=3.0.3,<4,>=2.4.2 in /usr/local/lib/python3.11/dist-packages (from httplib2<1.dev0,>=0.19.0->google-api-python-client->google-generativeai<0.9.0,>=0.8.0->langchain_google_genai) (3.2.1)\n",
            "Requirement already satisfied: pyasn1<0.7.0,>=0.4.6 in /usr/local/lib/python3.11/dist-packages (from pyasn1-modules>=0.2.1->google-auth>=2.15.0->google-generativeai<0.9.0,>=0.8.0->langchain_google_genai) (0.6.1)\n",
            "Requirement already satisfied: sniffio>=1.1 in /usr/local/lib/python3.11/dist-packages (from anyio->httpx<1,>=0.23.0->langsmith<0.4,>=0.1.17->langchain) (1.3.1)\n",
            "Downloading langchain_google_genai-2.0.9-py3-none-any.whl (41 kB)\n",
            "\u001b[2K   \u001b[90m━━━━━━━━━━━━━━━━━━━━━━━━━━━━━━━━━━━━━━━━\u001b[0m \u001b[32m41.7/41.7 kB\u001b[0m \u001b[31m2.7 MB/s\u001b[0m eta \u001b[36m0:00:00\u001b[0m\n",
            "\u001b[?25hDownloading pypdf2-3.0.1-py3-none-any.whl (232 kB)\n",
            "\u001b[2K   \u001b[90m━━━━━━━━━━━━━━━━━━━━━━━━━━━━━━━━━━━━━━━━\u001b[0m \u001b[32m232.6/232.6 kB\u001b[0m \u001b[31m8.3 MB/s\u001b[0m eta \u001b[36m0:00:00\u001b[0m\n",
            "\u001b[?25hDownloading faiss_cpu-1.9.0.post1-cp311-cp311-manylinux_2_17_x86_64.manylinux2014_x86_64.whl (27.5 MB)\n",
            "\u001b[2K   \u001b[90m━━━━━━━━━━━━━━━━━━━━━━━━━━━━━━━━━━━━━━━━\u001b[0m \u001b[32m27.5/27.5 MB\u001b[0m \u001b[31m65.3 MB/s\u001b[0m eta \u001b[36m0:00:00\u001b[0m\n",
            "\u001b[?25hDownloading langchain_community-0.3.15-py3-none-any.whl (2.5 MB)\n",
            "\u001b[2K   \u001b[90m━━━━━━━━━━━━━━━━━━━━━━━━━━━━━━━━━━━━━━━━\u001b[0m \u001b[32m2.5/2.5 MB\u001b[0m \u001b[31m75.7 MB/s\u001b[0m eta \u001b[36m0:00:00\u001b[0m\n",
            "\u001b[?25hDownloading dataclasses_json-0.6.7-py3-none-any.whl (28 kB)\n",
            "Downloading filetype-1.2.0-py2.py3-none-any.whl (19 kB)\n",
            "Downloading httpx_sse-0.4.0-py3-none-any.whl (7.8 kB)\n",
            "Downloading pydantic_settings-2.7.1-py3-none-any.whl (29 kB)\n",
            "Downloading marshmallow-3.26.0-py3-none-any.whl (50 kB)\n",
            "\u001b[2K   \u001b[90m━━━━━━━━━━━━━━━━━━━━━━━━━━━━━━━━━━━━━━━━\u001b[0m \u001b[32m50.8/50.8 kB\u001b[0m \u001b[31m3.7 MB/s\u001b[0m eta \u001b[36m0:00:00\u001b[0m\n",
            "\u001b[?25hDownloading python_dotenv-1.0.1-py3-none-any.whl (19 kB)\n",
            "Downloading typing_inspect-0.9.0-py3-none-any.whl (8.8 kB)\n",
            "Downloading mypy_extensions-1.0.0-py3-none-any.whl (4.7 kB)\n",
            "Installing collected packages: filetype, python-dotenv, PyPDF2, mypy-extensions, marshmallow, httpx-sse, faiss-cpu, typing-inspect, pydantic-settings, dataclasses-json, langchain_google_genai, langchain-community\n",
            "Successfully installed PyPDF2-3.0.1 dataclasses-json-0.6.7 faiss-cpu-1.9.0.post1 filetype-1.2.0 httpx-sse-0.4.0 langchain-community-0.3.15 langchain_google_genai-2.0.9 marshmallow-3.26.0 mypy-extensions-1.0.0 pydantic-settings-2.7.1 python-dotenv-1.0.1 typing-inspect-0.9.0\n"
          ]
        }
      ]
    },
    {
      "cell_type": "code",
      "source": [
        "from langchain_google_genai import ChatGoogleGenerativeAI\n",
        "from PyPDF2 import PdfReader\n",
        "from langchain.text_splitter import RecursiveCharacterTextSplitter\n",
        "from langchain.output_parsers import StructuredOutputParser\n",
        "import os\n",
        "from IPython.display import display, Markdown\n",
        "import re\n",
        "from io import BytesIO\n",
        "from langchain_google_genai import GoogleGenerativeAIEmbeddings\n",
        "import google.generativeai as genai\n",
        "from langchain.vectorstores import FAISS\n",
        "from langchain.chains.question_answering import load_qa_chain\n",
        "from langchain.prompts import PromptTemplate"
      ],
      "metadata": {
        "id": "SfeDMnD7tog_"
      },
      "execution_count": 18,
      "outputs": []
    },
    {
      "cell_type": "code",
      "source": [
        "from google.colab import userdata\n",
        "os.environ['GOOGLE_API_KEY'] = userdata.get('GEMINI_API_KEY')"
      ],
      "metadata": {
        "id": "L8stA_BPt4o0"
      },
      "execution_count": 3,
      "outputs": []
    },
    {
      "cell_type": "code",
      "source": [
        "def get_pdf_text(pdf_files):\n",
        "    text = \"\"\n",
        "    for i,uploaded_file in enumerate(pdf_files):\n",
        "        # Convert the uploaded file to a BytesIO stream\n",
        "        pdf_stream = BytesIO(uploaded_file.read())\n",
        "        pdf_reader = PdfReader(pdf_stream)\n",
        "        for page in pdf_reader.pages:\n",
        "            text += page.extract_text() + \"\\n\"\n",
        "    return text"
      ],
      "metadata": {
        "id": "W1jn-r_fuCm2"
      },
      "execution_count": 4,
      "outputs": []
    },
    {
      "cell_type": "code",
      "source": [
        "def get_text_chunks(text):\n",
        "    text_splitter = RecursiveCharacterTextSplitter(chunk_size=10000,chunk_overlap=1000)\n",
        "    chunks = text_splitter.split_text(text)\n",
        "    return chunks"
      ],
      "metadata": {
        "id": "ZeWm7SIsuFM7"
      },
      "execution_count": 27,
      "outputs": []
    },
    {
      "cell_type": "code",
      "source": [
        "def get_vector_store(text_chunks):\n",
        "    embeddings = GoogleGenerativeAIEmbeddings(model='models/embedding-001')\n",
        "    vector_store = FAISS.from_texts(text_chunks,embedding=embeddings)\n",
        "    vector_store.save_local('faiss_index')"
      ],
      "metadata": {
        "id": "ykLNzLNZuFJD"
      },
      "execution_count": 14,
      "outputs": []
    },
    {
      "cell_type": "code",
      "source": [
        "def get_conversational_chain():\n",
        "    prompt_template = \"\"\"\n",
        "    Answer the question as detailed as possible from the provided context, make sure to provide all the details, if the answer is not in\n",
        "    provided context just say, \"answer is not available in the context\", don't provide the wrong answer\n",
        "    If there is 4 numerical columns in table, first 2 for months ended 31 march, next 2 for year ended march 31\n",
        "    If there is 2 numerical columns then those are march 31 2024, march 31 2023 in a row. These are for numerical columns only.\n",
        "    Context:\\n{context}?\\n\n",
        "    Question:\\n{question}\\n\n",
        "    Answer:\n",
        "    \"\"\"\n",
        "\n",
        "    model = ChatGoogleGenerativeAI(model='gemini-1.5-flash',temparature=0.3)\n",
        "    prompt = PromptTemplate(template=prompt_template,input_variables=[\"context\",'question'])\n",
        "    chain = load_qa_chain(model, chain_type=\"stuff\", prompt=prompt)\n",
        "    return chain"
      ],
      "metadata": {
        "id": "LVEmeMqjuLpj"
      },
      "execution_count": 24,
      "outputs": []
    },
    {
      "cell_type": "code",
      "source": [
        "def user_input(user_question):\n",
        "    # Ensure embeddings match the creation process\n",
        "    embeddings = GoogleGenerativeAIEmbeddings(model='models/embedding-001')\n",
        "\n",
        "    # Load the FAISS index with dangerous deserialization explicitly allowed\n",
        "    new_db = FAISS.load_local(\"faiss_index\", embeddings, allow_dangerous_deserialization=True)\n",
        "    docs = new_db.similarity_search(user_question, k=1)\n",
        "\n",
        "    chain = get_conversational_chain()\n",
        "\n",
        "    response = chain(\n",
        "        {\"input_documents\": docs, 'question': user_question},\n",
        "        return_only_outputs=True)\n",
        "\n",
        "    print(response[\"output_text\"])\n",
        "    display(Markdown(\"## Supporting Documents: \"))\n",
        "    for doc in docs:\n",
        "        model = ChatGoogleGenerativeAI(model=\"gemini-1.5-flash\",temperature=0.7)\n",
        "        prompt =f\"\"\"\n",
        "        Extract tables from {doc.page_content}. Don't give any information other than the tables.\n",
        "        If there is 4 numerical columns in table, first 2 for months ended 31 march, next 2 for year ended march 31\n",
        "        If there is 2 numerical columns then those are march 31 2024, march 31 2023 in a row. These are for numerical columns only.\n",
        "        \"\"\"\n",
        "        response = model.invoke(f\"Extract tables from {doc.page_content}. Don't give any information other than the tables.\")\n",
        "        display(Markdown(response.content))"
      ],
      "metadata": {
        "id": "7wF63JzduM6T"
      },
      "execution_count": 25,
      "outputs": []
    },
    {
      "cell_type": "code",
      "source": [
        "path = \"/content/Sample Financial Statement.pdf\"\n",
        "pdf_files = [open(path, \"rb\")]\n",
        "text = get_pdf_text(pdf_files)\n",
        "text_chunks = get_text_chunks(text)\n",
        "get_vector_store(text_chunks)"
      ],
      "metadata": {
        "id": "pUYMKPp-vVZ6"
      },
      "execution_count": 28,
      "outputs": []
    },
    {
      "cell_type": "code",
      "source": [
        "user_question = \"compare the travel expenses of 2024 and 2023 year end\"\n",
        "user_input(user_question)"
      ],
      "metadata": {
        "colab": {
          "base_uri": "https://localhost:8080/",
          "height": 1000
        },
        "collapsed": true,
        "id": "m6f2P2mIupBb",
        "outputId": "24a647f1-c980-496a-8625-a6cabcf68547"
      },
      "execution_count": 29,
      "outputs": [
        {
          "output_type": "stream",
          "name": "stdout",
          "text": [
            "The travel expenses for the year ended March 31, 2024 were ₹1,759 crore, while for the year ended March 31, 2023 they were ₹1,525 crore.\n"
          ]
        },
        {
          "output_type": "display_data",
          "data": {
            "text/plain": [
              "<IPython.core.display.Markdown object>"
            ],
            "text/markdown": "## Supporting Documents: "
          },
          "metadata": {}
        },
        {
          "output_type": "display_data",
          "data": {
            "text/plain": [
              "<IPython.core.display.Markdown object>"
            ],
            "text/markdown": "**Table 1: Income Statement (₹ crore)**\n\n| Item                                      | Year ended March 31, 2023 | Three months ended March 31, 2024 | Year ended March 31, 2024 | Three months ended March 31, 2023 |\n|-------------------------------------------|----------------------------|---------------------------------|----------------------------|---------------------------------|\n| Travel expenses                           | 471                         | 426                              | 1,759                         | 1,525                              |\n| Cost of software packages and others      | 3,687                        | 2,886                             | 13,515                        | 10,902                             |\n| Communication expenses                     | 147                         | 171                              | 677                          | 713                               |\n| Consultancy and professional charges      | 489                         | 387                              | 1,726                         | 1,684                              |\n| Depreciation and amortization expenses    | 1,163                        | 1,121                             | 4,678                         | 4,225                              |\n| Finance cost                              | 110                          | 82                               | 470                          | 284                               |\n| Other expenses                            | 985                          | 1,146                             | 4,716                         | 4,392                              |\n| **Total expenses**                        | **30,412**                    | **29,646**                         | **122,393**                    | **116,146**                        |\n| Profit before tax                         | 10,240                       | 8,466                             | 35,988                       | 33,322                             |\n| Current tax                               | 1,173                        | 2,260                             | 8,390                         | 9,287                              |\n| Deferred tax                              | 1,092                        | 72                               | 1,350                         | (73)                               |\n| **Profit for the period**                 | **7,975**                     | **6,134**                          | **26,248**                    | **24,108**                         |\n| Remeasurement of the net defined benefit liability/asset, net | 26                          | 25                               | 120                          | 8                                 |\n| Equity instruments through other comprehensive income, net | (12)                         | (15)                             | 19                           | (7)                                |\n| Fair value changes on derivatives designated as cash flow hedge, net | 28                          | 36                               | 11                           | (7)                                |\n| Fair value changes on investments, net    | 37                          | 42                               | 144                          | (256)                              |\n| **Total other comprehensive income /(loss), net of tax** | **(152)**                    | **149**                           | **520**                     | **514**                            |\n| **Total comprehensive income for the period** | **7,823**                     | **6,283**                          | **26,768**                    | **24,622**                         |\n| Profit attributable to: Owners of the Company | 7,969                        | 6,128                             | 26,233                        | 24,095                             |\n| Profit attributable to: Non-controlling interests | 6                           | 6                               | 15                           | 13                                |\n| **Total comprehensive income attributable to: Owners of the Company** | **7,821**                     | **6,276**                          | **26,754**                    | **24,598**                         |\n| **Total comprehensive income attributable to: Non-controlling interests** | **2**                          | **7**                              | **14**                         | **24**                              |\n| Basic (in ₹ per share)                   | 19.25                        | 14.79                             | 63.39                         | 57.63                              |\n| Diluted (in ₹ per share)                 | 19.22                        | 14.77                             | 63.29                         | 57.54                              |\n\n\n**Table 2: Statement of Changes in Equity (₹ crore)**\n\n| Particulars                                                                     | Balance as at April 1, 2022 | Impact on adoption of amendment to Ind AS 37# | Balance as at April 1, 2023 | Changes in equity for the year ended March 31, 2023 |\n|---------------------------------------------------------------------------------|-----------------------------|-------------------------------------------------|-----------------------------|----------------------------------------------------|\n| Capital reserve                                                                 | 2,098                         | —                                               | 2,098                         | —                                                |\n| Capital redemption reserve                                                        | 54                           | —                                               | 54                           | —                                                |\n| Securities Premium                                                              | 139                          | —                                               | 139                          | —                                                |\n| Retained earnings                                                               | 61,313                        | (19)                                             | 61,294                        | 24,095                                           |\n| General reserve                                                                  | 1,061                         | —                                               | 1,061                         | —                                                |\n| Share Options Outstanding Account                                                 | 606                          | —                                               | 606                          | —                                                |\n| Special Economic Zone Re-investment reserve (2)                                 | 8,339                         | —                                               | 8,339                         | —                                                |\n| Other reserves (3)                                                              | 16                           | —                                               | 16                           | —                                                |\n| Equity instruments through other comprehensive income                           | 254                          | —                                               | 254                          | (7)                                               |\n| Exchange differences on translating the financial statements of a foreign operation | 1,560                         | —                                               | 1,560                         | 765                                              |\n| Effective portion of Cash Flow Hedges                                            | 2                           | —                                               | 2                           | —                                                |\n| Other items of other comprehensive income / (loss)                              | (292)                         | —                                               | (292)                         | 8                                                 |\n| **Total**                                                                       | **75,350**                     | **(19)**                                          | **75,331**                     | **24,108**                                          |"
          },
          "metadata": {}
        }
      ]
    },
    {
      "cell_type": "code",
      "source": [
        "user_question = \"What is the total revenue from operations for the year ending March 31, 2024?\"\n",
        "user_input(user_question)"
      ],
      "metadata": {
        "colab": {
          "base_uri": "https://localhost:8080/",
          "height": 1000
        },
        "id": "fBdIbqYJuz8S",
        "outputId": "8d9a7e7f-53c3-45ba-90f0-5537397714ba"
      },
      "execution_count": null,
      "outputs": [
        {
          "output_type": "stream",
          "name": "stdout",
          "text": [
            "The total revenue from operations for the year ending March 31, 2024 was ₹153,670 crore.\n"
          ]
        },
        {
          "output_type": "display_data",
          "data": {
            "text/plain": [
              "<IPython.core.display.Markdown object>"
            ],
            "text/markdown": "## Supporting Documents: "
          },
          "metadata": {}
        },
        {
          "output_type": "display_data",
          "data": {
            "text/plain": [
              "<IPython.core.display.Markdown object>"
            ],
            "text/markdown": "**Table 1:**\n\n| Item                           | 2024 (₹ crore) | 2023 (₹ crore) |\n|---------------------------------|-----------------|-----------------|\n| Unallocable expenses           | 4,678           | 4,225           |\n| Other income, net              | 4,711           | 2,701           |\n| Finance cost                   | 470             | 284             |\n| Profit before tax              | 35,988          | 33,322          |\n| Income tax expense             | 9,740           | 9,214           |\n| Net Profit                     | 26,248          | 24,108          |\n| Depreciation and amortization expense | 4,678           | 4,225           |\n| Non-cash expenses other than depreciation and amortization | —              | —              |\n\n\n**Table 2:**\n\n| Particulars                     | Note No. | 2024 (₹ crore) | 2023 (₹ crore) | 2024 (₹ crore) | 2023 (₹ crore) |\n|---------------------------------|----------|-----------------|-----------------|-----------------|-----------------|\n| Revenue from operations         | 2.16     | 37,923          | 37,441          | 153,670         | 146,767         |\n| Cost of Sales                  |          | 26,748          | 26,011          | 107,413         | 102,353         |\n| Gross profit                    |          | 11,175          | 11,430          | 46,257          | 44,414          |\n| Selling and marketing expenses |          | 1,735           | 1,659           | 6,973           | 6,249           |\n| General and administration expenses |          | 1,819           | 1,894           | 7,537           | 7,260           |\n| Total operating expenses       |          | 3,554           | 3,553           | 14,510          | 13,509          |\n| Operating profit                |          | 7,621           | 7,877           | 31,747          | 30,905          |\n| Other income, net              | 2.17     | 2,729           | 671             | 4,711           | 2,701           |\n| Finance cost                   |          | 110             | 82              | 470             | 284             |\n| Profit before tax              |          | 10,240          | 8,466           | 35,988          | 33,322          |\n| Current tax                    | 2.15     | 1,173           | 2,260           | 8,390           | 9,287           |\n| Deferred tax                   | 2.15     | 1,092           | 72              | 1,350           | (73)            |\n| Profit for the period          |          | 7,975           | 6,134           | 26,248          | 24,108          |\n\n\n**Table 3:**\n\n| Items                                                                 | 2024 (₹ crore) | 2023 (₹ crore) | 2024 (₹ crore) | 2023 (₹ crore) |\n|----------------------------------------------------------------------|-----------------|-----------------|-----------------|-----------------|\n| Remeasurement of the net defined benefit liability/asset, net         | 26              | 25              | 120             | 8              |\n| Equity instruments through other comprehensive income, net              | (12)            | (15)            | 19              | (7)             |\n| Fair value changes on derivatives designated as cash flow hedge, net | 28              | 36              | 11              | (7)             |\n| Exchange differences on translation of foreign operations             | (231)           | 61              | 226             | 776             |\n| Fair value changes on investments, net                               | 37              | 42              | 144             | (256)           |\n| Total other comprehensive income / (loss), net of tax                 | (152)           | 149             | 520             | 514             |\n\n\n**Table 4:**\n\n| Profit attributable to:          | 2024 (₹ crore) | 2023 (₹ crore) | 2024 (₹ crore) | 2023 (₹ crore) |\n|-----------------------------------|-----------------|-----------------|-----------------|-----------------|\n| Owners of the Company             | 7,969           | 6,128           | 26,233          | 24,095          |\n| Non-controlling interests         | 6               | 6               | 15              | 13              |\n| Total comprehensive income attributable to: |                 |                 |                 |                 |\n| Owners of the Company             | 7,821           | 6,276           | 26,754          | 24,598          |\n| Non-controlling interests         | 2               | 7               | 14              | 24              |"
          },
          "metadata": {}
        }
      ]
    },
    {
      "cell_type": "code",
      "source": [
        "user_question = \"What was the operating profit (profit before tax minus other income) for the quarter ending March 31, 2024?\"\n",
        "user_input(user_question)"
      ],
      "metadata": {
        "colab": {
          "base_uri": "https://localhost:8080/",
          "height": 1000
        },
        "id": "sPMK2dVVxbjO",
        "outputId": "1c182987-9892-4a1d-ff39-6e1483acba25"
      },
      "execution_count": null,
      "outputs": [
        {
          "output_type": "stream",
          "name": "stdout",
          "text": [
            "Here's the calculation based on the provided data:\n",
            "\n",
            "* **Profit before tax (March 31, 2024):** ₹10,240 crore\n",
            "* **Other income, net (March 31, 2024):** ₹2,729 crore\n",
            "\n",
            "**Operating profit (March 31, 2024) = Profit before tax - Other income, net = ₹10,240 crore - ₹2,729 crore = ₹7,511 crore**\n"
          ]
        },
        {
          "output_type": "display_data",
          "data": {
            "text/plain": [
              "<IPython.core.display.Markdown object>"
            ],
            "text/markdown": "## Supporting Documents: "
          },
          "metadata": {}
        },
        {
          "output_type": "display_data",
          "data": {
            "text/plain": [
              "<IPython.core.display.Markdown object>"
            ],
            "text/markdown": "**Table 1:**\n\n| Item                               | 2024 (₹ crore) | 2023 (₹ crore) |\n|------------------------------------|-----------------|-----------------|\n| Unallocable expenses               | 4,678           | 4,225           |\n| Other income, net                  | 4,711           | 2,701           |\n| Finance cost                       | 470             | 284             |\n| Profit before tax                  | 35,988          | 33,322          |\n| Income tax expense                 | 9,740           | 9,214           |\n| Net Profit                         | 26,248          | 24,108          |\n| Depreciation and amortization expense | 4,678           | 4,225           |\n| Non-cash expenses (other than D&A) | —               | —               |\n\n\n**Table 2:**\n\n| Particulars                     | Note No. | 2024 (₹ crore) | 2023 (₹ crore) | 2024 (₹ crore) | 2023 (₹ crore) |\n|---------------------------------|----------|-----------------|-----------------|-----------------|-----------------|\n| Revenue from operations          | 2.16     | 37,923           | 37,441           | 153,670          | 146,767          |\n| Cost of Sales                   |          | 26,748           | 26,011           | 107,413          | 102,353          |\n| Gross profit                     |          | 11,175           | 11,430           | 46,257           | 44,414           |\n| Selling and marketing expenses   |          | 1,735            | 1,659            | 6,973            | 6,249            |\n| General and administration expenses |          | 1,819            | 1,894            | 7,537            | 7,260            |\n| Total operating expenses         |          | 3,554            | 3,553            | 14,510           | 13,509           |\n| Operating profit                 |          | 7,621            | 7,877            | 31,747           | 30,905           |\n| Other income, net               | 2.17     | 2,729            | 671             | 4,711            | 2,701            |\n| Finance cost                     |          | 110              | 82              | 470              | 284             |\n| Profit before tax                |          | 10,240           | 8,466            | 35,988           | 33,322           |\n| Current tax                      | 2.15     | 1,173            | 2,260            | 8,390            | 9,287            |\n| Deferred tax                     | 2.15     | 1,092            | 72              | 1,350            | (73)             |\n| Profit for the period            |          | 7,975            | 6,134            | 26,248           | 24,108           |\n\n\n**Table 3:**\n\n| Items                                                                    | 2024 (₹ crore) | 2023 (₹ crore) | 2024 (₹ crore) | 2023 (₹ crore) |\n|-------------------------------------------------------------------------|-----------------|-----------------|-----------------|-----------------|\n| Remeasurement of net defined benefit liability/asset, net                | 26              | 25              | 120             | 8               |\n| Equity instruments through other comprehensive income, net                 | (12)             | (15)             | 19              | (7)              |\n| Fair value changes on derivatives designated as cash flow hedge, net      | 28              | 36              | 11              | (7)              |\n| Exchange differences on translation of foreign operations                 | (231)            | 61              | 226             | 776             |\n| Fair value changes on investments, net                                   | 37              | 42              | 144             | (256)            |\n| Total other comprehensive income / (loss), net of tax                   | (152)            | 149             | 520             | 514             |\n| Total comprehensive income for the period                                | 7,823            | 6,283            | 26,768           | 24,622           |\n| Profit attributable to Owners of the Company                             | 7,969            | 6,128            | 26,233           | 24,095           |\n| Profit attributable to Non-controlling interests                         | 6               | 6               | 15              | 13              |\n| Total comprehensive income attributable to Owners of the Company          | 7,821            | 6,276            | 26,754           | 24,598           |\n| Total comprehensive income attributable to Non-controlling interests     | 2               | 7               | 14              | 24              |"
          },
          "metadata": {}
        }
      ]
    },
    {
      "cell_type": "code",
      "source": [
        "user_question = \"What is the carrying value of goodwill as of March 31, 2024?\"\n",
        "user_input(user_question)"
      ],
      "metadata": {
        "colab": {
          "base_uri": "https://localhost:8080/",
          "height": 1000
        },
        "id": "bTKJLfJMxwmv",
        "outputId": "50dcc4e9-8e1c-437c-c4cc-77f27a0db697"
      },
      "execution_count": null,
      "outputs": [
        {
          "output_type": "stream",
          "name": "stdout",
          "text": [
            "The carrying value of goodwill as of March 31, 2024, was ₹7,303 crore.\n"
          ]
        },
        {
          "output_type": "display_data",
          "data": {
            "text/plain": [
              "<IPython.core.display.Markdown object>"
            ],
            "text/markdown": "## Supporting Documents: "
          },
          "metadata": {}
        },
        {
          "output_type": "display_data",
          "data": {
            "text/plain": [
              "<IPython.core.display.Markdown object>"
            ],
            "text/markdown": "**Table 1: Property, Plant and Equipment - Accumulated Depreciation and Carrying Value (March 31, 2024)**\n\n| Particulars                     | Amount (₹ crore) |\n|---------------------------------|-----------------|\n| Accumulated depreciation         | (18,217)        |\n| Carrying value as at March 31, 2024 | 12,370          |\n\n\n**Table 2: Property, Plant and Equipment - Changes in Carrying Value (Year Ended March 31, 2023)**\n\n| Particulars                     | Land | Freehold Buildings | Plant & Machinery | Office Equipment | Computer Equipment | Furniture & Fixtures | Leasehold Improvements | Vehicles | Total |\n|---------------------------------|------|--------------------|--------------------|-----------------|--------------------|----------------------|-----------------------|----------|-------|\n| Gross carrying value as at April 1, 2022 | 1,431 | 11,224            | 3,210             | 1,427            | 8,527              | 2,278                 | 1,234                  | 44       | 29,375 |\n| Additions - Business Combination | —    | —                 | —                 | 5                | 6                  | 1                     | 2                      | —        | 14    |\n| Additions                       | 2    | 337               | 273               | 122              | 1,510              | 364                   | 220                    | 2        | 2,830 |\n| Deletions*                      | (2)  | —                 | (182)             | (76)             | (1,563)            | (348)                 | (25)                   | (1)      | (2,197)|\n| Translation difference          | —    | 1                  | 1                 | 4                | 39                 | 8                     | 14                     | —        | 67     |\n| Gross carrying value as at March 31, 2023 | 1,431 | 11,562            | 3,302             | 1,482            | 8,519              | 2,303                 | 1,445                  | 45       | 30,089 |\n| Accumulated depreciation as at April 1, 2022 | —    | (4,100)           | (2,344)           | (1,150)           | (6,034)            | (1,779)               | (856)                  | (37)     | (16,300)|\n| Depreciation                    | —    | (434)             | (273)             | (121)            | (1,322)            | (236)                 | (187)                  | (4)      | (2,577)|\n| Accumulated depreciation on deletions* | —    | —                 | 181               | 76                | 1,556              | 347                   | 21                     | 1        | 2,182  |\n| Translation difference          | —    | (1)                | (1)               | (3)              | (26)               | (7)                    | (10)                   | —        | (48)   |\n| Accumulated depreciation as at March 31, 2023 | —    | (4,535)           | (2,437)           | (1,198)           | (5,826)            | (1,675)               | (1,032)                 | (40)     | (16,743)|\n| Carrying value as at April 1, 2022 | 1,431 | 7,124             | 866               | 277              | 2,493              | 499                   | 378                    | 7        | 13,075 |\n| Carrying value as at March 31, 2023 | 1,431 | 7,027             | 865               | 284              | 2,693              | 628                   | 413                    | 5        | 13,346 |\n\n\n**Table 3: Goodwill - Changes in Carrying Amount**\n\n| Particulars                    | March 31, 2024 | March 31, 2023 |\n|--------------------------------|-----------------|-----------------|\n| Carrying value at the beginning | 7,248           | 6,195           |\n| Goodwill on acquisitions       | —                | 630             |\n| Translation differences        | 55               | 423             |\n| Carrying value at the end      | 7,303           | 7,248           |\n\n\n**Table 4: Investments (March 31, 2024 and 2023)**\n\n*(No data provided other than the column headers)*\n\n| Particulars             | March 31, 2024 | March 31, 2023 |\n|-------------------------|-----------------|-----------------|\n| Non-current Investments |                 |                 |"
          },
          "metadata": {}
        }
      ]
    },
    {
      "cell_type": "code",
      "source": [
        "user_question = \"What was the depreciation and amortization expense for the year ending March 31, 2024?\"\n",
        "user_input(user_question)"
      ],
      "metadata": {
        "colab": {
          "base_uri": "https://localhost:8080/",
          "height": 1000
        },
        "id": "z1mfcngexwha",
        "outputId": "803db8a4-8f04-4370-98c0-0d98d9bfbc68"
      },
      "execution_count": null,
      "outputs": [
        {
          "output_type": "stream",
          "name": "stdout",
          "text": [
            "The provided text gives the depreciation expense for the year ended March 31, 2024, broken down by category of property, plant, and equipment.  The total depreciation expense for the year is ₹2,685 crore.\n"
          ]
        },
        {
          "output_type": "display_data",
          "data": {
            "text/plain": [
              "<IPython.core.display.Markdown object>"
            ],
            "text/markdown": "## Supporting Documents: "
          },
          "metadata": {}
        },
        {
          "output_type": "display_data",
          "data": {
            "text/plain": [
              "<IPython.core.display.Markdown object>"
            ],
            "text/markdown": "**Table 1: Changes in Carrying Value of Property, Plant and Equipment (Year Ended March 31, 2024)**\n\n| Particulars             | Land | Freehold Buildings | Plant & Machinery | Office Equipment | Computer Equipment | Furniture & Fixtures | Leasehold Improvements | Vehicles | Total |\n|--------------------------|------|--------------------|-------------------|-----------------|--------------------|----------------------|-----------------------|---------|-------|\n| Gross carrying value as at April 1, 2023 | 1,431 | 11,562             | 3,302             | 1,482             | 8,519                | 2,303                  | 1,445                   | 45      | 30,089 |\n| Additions                 | 1    | 300                | 193               | 106               | 931                 | 121                    | 108                    | 1       | 1,761 |\n| Deletions**              | —    | (55)               | (64)              | (60)              | (846)               | (99)                   | (102)                  | (1)     | (1,227)|\n| Translation difference    | —    | (37)               | (3)               | —                 | 7                   | 1                     | (4)                    | —       | (36)   |\n| Gross carrying value as at March 31, 2024 | 1,432 | 11,770             | 3,428             | 1,528             | 8,611                | 2,326                  | 1,447                  | 45      | 30,587 |\n| Accumulated depreciation as at April 1, 2023 | —    | (4,535)            | (2,437)            | (1,198)            | (5,826)              | (1,675)                 | (1,032)                 | (40)    | (16,743)|\n| Depreciation              | —    | (450)              | (259)             | (130)             | (1,387)              | (250)                  | (206)                  | (3)     | (2,685)|\n| Accumulated depreciation on deletions** | —    | 55                  | 64                 | 59                 | 836                  | 89                     | 97                     | 1       | 1,201 |\n| Translation difference    | —    | 9                   | 2                  | —                  | (3)                  | (1)                    | 3                      | —       | 10     |\n| Accumulated depreciation as at March 31, 2024 | —    | (4,921)            | (2,630)            | (1,269)            | (6,380)              | (1,837)                 | (1,138)                 | (42)    | (18,217)|\n| Carrying value as at April 1, 2023       | 1,431 | 7,027              | 865               | 284               | 2,693                | 628                    | 413                    | 5       | 13,346 |\n| Carrying value as at March 31, 2024       | 1,432 | 6,849              | 798               | 259               | 2,231                | 489                    | 309                    | 3       | 12,370 |\n\n\n**Table 2: Changes in Carrying Value of Property, Plant and Equipment (Year Ended March 31, 2023)**\n\n| Particulars             | Land | Freehold Buildings | Plant & Machinery | Office Equipment | Computer Equipment | Furniture & Fixtures | Leasehold Improvements | Vehicles | Total |\n|--------------------------|------|--------------------|-------------------|-----------------|--------------------|----------------------|-----------------------|---------|-------|\n| Gross carrying value as at January 1, 2023 | 1,431 | 11,530             | 3,368             | 1,466             | 8,895                | 2,450                  | 1,353                   | 44      | 30,537 |\n| Additions                 | 2    | 29                 | 109               | 55                | 494                 | 162                    | 103                    | 1       | 955   |\n| Deletions*               | (2)  | —                  | (175)             | (40)              | (877)               | (311)                  | (13)                   | —       | (1,418)|\n| Translation difference    | —    | 3                   | —                 | 1                 | 7                   | 2                     | 2                      | —       | 15    |\n| Gross carrying value as at March 31, 2023 | 1,431 | 11,562             | 3,302             | 1,482             | 8,519                | 2,303                  | 1,445                   | 45      | 30,089 |\n| Accumulated depreciation as at January 1, 2023 | —    | (4,425)            | (2,547)            | (1,206)            | (6,339)              | (1,922)                 | (992)                  | (39)    | (17,470)|\n| Depreciation              | —    | (109)              | (65)              | (31)              | (354)               | (62)                   | (48)                   | (1)     | (670)  |\n| Accumulated depreciation on deletions* | —    | —                  | 175                | 40                 | 871                 | 310                    | 9                      | —       | 1,405 |\n| Translation difference    | —    | (1)                 | —                 | (1)               | (4)                  | (1)                    | (1)                    | —       | (8)    |\n| Accumulated depreciation as at March 31, 2023 | —    | (4,535)            | (2,437)            | (1,198)            | (5,826)              | (1,675)                 | (1,032)                 | (40)    | (16,743)|\n| Carrying value as at January 1, 2023       | 1,431 | 7,105              | 821               | 260               | 2,556                | 528                    | 361                    | 5       | 13,067 |\n| Carrying value as at March 31, 2023       | 1,431 | 7,027              | 865               | 284               | 2,693                | 628                    | 413                    | 5       | 13,346 |"
          },
          "metadata": {}
        }
      ]
    },
    {
      "cell_type": "code",
      "source": [
        "user_question = \"How much cash and cash equivalents are reported as of March 31, 2024?\"\n",
        "user_input(user_question)"
      ],
      "metadata": {
        "colab": {
          "base_uri": "https://localhost:8080/",
          "height": 1000
        },
        "id": "u79359dKxwd-",
        "outputId": "5206a727-df81-48be-f3ed-b475befe1917"
      },
      "execution_count": null,
      "outputs": [
        {
          "output_type": "stream",
          "name": "stdout",
          "text": [
            "The cash and cash equivalents reported as of March 31, 2024, were 14,786.\n"
          ]
        },
        {
          "output_type": "display_data",
          "data": {
            "text/plain": [
              "<IPython.core.display.Markdown object>"
            ],
            "text/markdown": "## Supporting Documents: "
          },
          "metadata": {}
        },
        {
          "output_type": "display_data",
          "data": {
            "text/plain": [
              "<IPython.core.display.Markdown object>"
            ],
            "text/markdown": "| Item                                      | Year Ended March 31, 2024 | Year Ended March 31, 2023 |\n|-------------------------------------------|--------------------------|--------------------------|\n| Other financial liabilities, other liabilities and provisions | (1,334)                     | 4,119                     |\n| Cash generated from operations             | 34,441                     | 31,261                     |\n| Income taxes paid                         | (9,231)                     | (8,794)                     |\n| Net cash generated by operating activities | 25,210                     | 22,467                     |\n| Deposits placed with corporation          | (847)                      | (996)                      |\n| Redemption of deposits placed with Corporation | 710                       | 762                       |\n| Payment of contingent consideration pertaining to acquisition of business | (101)                      | (60)                       |\n| Escrow and other deposits pertaining to Buyback | —                         | (483)                      |\n| Redemption of escrow and other deposits pertaining to Buyback | —                         | 483                       |\n| Other receipts                            | 128                       | 71                        |\n| Payments to acquire Investments           |                            |                          |\n| Liquid mutual fund units                 | (66,191)                   | (70,631)                   |\n| Target maturity fund units               | —                         | (400)                      |\n| Certificates of deposit                   | (8,509)                    | (10,348)                   |\n| Commercial Papers                        | (10,387)                   | (3,003)                    |\n| Non-convertible debentures               | (1,526)                    | (249)                      |\n| Tax free bonds and government bonds       | —                         | (27)                       |\n| Government securities                    | —                         | (1,569)                    |\n| Other Investments                        | (14)                       | (20)                       |\n| Proceeds on sale of Investments          |                            |                          |\n| Tax free bonds and government bonds       | 150                       | 221                       |\n| Liquid mutual funds units                 | 64,767                    | 71,851                    |\n| Certificates of deposit                   | 9,205                     | 10,404                    |\n| Commercial Papers                        | 6,479                     | 2,298                     |\n| Non-convertible debentures               | 1,230                     | 470                       |\n| Government securities                    | 304                       | 1,882                     |\n| Equity and preference securities         | 26                        | 99                        |\n| Payment of lease liabilities              | (2,024)                    | (1,231)                    |\n| Payment of dividends                     | (14,692)                   | (13,631)                   |\n| Payment of dividend to non-controlling interest of subsidiary | (39)                       | (22)                       |\n| Payment towards buyback of shares pertaining to non controlling interest of subsidiary | (18)                       | —                         |\n| Shares issued on exercise of employee stock options | 5                         | 35                        |\n| Other receipts                            | —                         | 132                       |\n| Other payments                           | (736)                     | (479)                     |\n| Buyback of equity shares including transaction cost and tax on buyback | —                         | (11,499)                   |"
          },
          "metadata": {}
        }
      ]
    },
    {
      "cell_type": "code",
      "source": [
        "user_question = \"How much was spent on the buyback of equity shares (including transaction costs and tax) for the year ending March 31, 2023?\"\n",
        "user_input(user_question)"
      ],
      "metadata": {
        "colab": {
          "base_uri": "https://localhost:8080/",
          "height": 817
        },
        "id": "GPI79rEsxwa3",
        "outputId": "dd69ad9a-d186-4575-9eec-19238385b13d"
      },
      "execution_count": null,
      "outputs": [
        {
          "output_type": "stream",
          "name": "stdout",
          "text": [
            "The provided text states that the buyback resulted in a cash outflow of ₹9,300 crore (excluding transaction costs and tax on buyback).  The exact amount spent including transaction costs and tax on the buyback is not available in the context.\n"
          ]
        },
        {
          "output_type": "display_data",
          "data": {
            "text/plain": [
              "<IPython.core.display.Markdown object>"
            ],
            "text/markdown": "## Supporting Documents: "
          },
          "metadata": {}
        },
        {
          "output_type": "display_data",
          "data": {
            "text/plain": [
              "<IPython.core.display.Markdown object>"
            ],
            "text/markdown": "**Table 1: Dividend per Share (in ₹)**\n\n| Particulars                     | 2024 | 2023 | 2024 | 2023 |\n|---------------------------------|------|------|------|------|\n| Final dividend for fiscal 2022  | —    | —    | —    | 16.00 |\n| Interim dividend for fiscal 2023 | —    | —    | —    | 16.50 |\n| Final dividend for fiscal 2023  | —    | —    | 17.50 | —    |\n| Interim dividend for fiscal 2024 | —    | —    | 18.00 | —    |\n\n\n**Table 2:  Share-Based Incentive Grants**\n\n|                                      | \\multicolumn{2}{c|}{Equity Settled RSUs}                     | \\multicolumn{2}{c|}{Cash Settled RSU}                   |\n|--------------------------------------|-------------------------------------------------|-------------------------------------------------|-----------------------------------------------|-----------------------------------------------|\n|                                      | 2024          | 2023          | 2024          | 2023          |\n|                                      | Three Months Ended March 31 | Year Ended March 31 | Three Months Ended March 31 | Year Ended March 31 |\n| Key Management Personnel (KMP)       | 26,900         | 33,750         | -              | -              |\n| Employees other than KMP            | 3,582,471       | 3,329,240       | -              | -              |\n| **Total KMP**                       | **26,900**     | **33,750**     | **-**          | **-**          |\n| **Total Employees other than KMP** | **3,582,471**   | **3,329,240**   | **-**          | **-**          |\n| **Total Grants**                    | **3,609,371**   | **3,362,990**   | **-**          | **-**          |\n\n|                                      | \\multicolumn{2}{c|}{Equity Settled RSUs}                     | \\multicolumn{2}{c|}{Cash Settled RSU}                   |\n|--------------------------------------|-------------------------------------------------|-------------------------------------------------|-----------------------------------------------|-----------------------------------------------|\n|                                      | 2024          | 2023          | 2024          | 2023          |\n|                                      | Year Ended March 31 | Year Ended March 31 | Year Ended March 31 | Year Ended March 31 |\n| Key Management Personnel (KMP)       | 141,171        | 210,643        | -              | -              |\n| Employees other than KMP            | 4,046,731       | 3,704,014       | 169,040        | 92,400         |\n| **Total KMP**                       | **141,171**     | **210,643**     | **-**          | **-**          |\n| **Total Employees other than KMP** | **4,046,731**   | **3,704,014**   | **169,040**     | **92,400**     |\n| **Total Grants**                    | **4,187,902**   | **3,914,657**   | **176,990**     | **92,400**     |"
          },
          "metadata": {}
        }
      ]
    },
    {
      "cell_type": "code",
      "source": [
        "user_question = \"What is the earnings per equity share (basic) for the 3 months ending March 31, 2024?\"\n",
        "user_input(user_question)"
      ],
      "metadata": {
        "colab": {
          "base_uri": "https://localhost:8080/",
          "height": 1000
        },
        "id": "K-MoCeuHxwTg",
        "outputId": "4b6a3335-fd87-4247-933e-fb6bd403b871"
      },
      "execution_count": null,
      "outputs": [
        {
          "output_type": "stream",
          "name": "stdout",
          "text": [
            "The earnings per equity share (basic) for the three months ended March 31, 2024, is ₹19.25 per share.\n"
          ]
        },
        {
          "output_type": "display_data",
          "data": {
            "text/plain": [
              "<IPython.core.display.Markdown object>"
            ],
            "text/markdown": "## Supporting Documents: "
          },
          "metadata": {}
        },
        {
          "output_type": "display_data",
          "data": {
            "text/plain": [
              "<IPython.core.display.Markdown object>"
            ],
            "text/markdown": "**Table 1: Income Statement (₹ crore)**\n\n| Item                                      | Year ended March 31, 2023 | Three months ended March 31, 2024 | Year ended March 31, 2024 | Three months ended March 31, 2023 |\n|-------------------------------------------|---------------------------|---------------------------------|---------------------------|---------------------------------|\n| Travel expenses                           | 471                         | 426                              | 1,759                         | 1,525                              |\n| Cost of software packages and others      | 3,687                       | 2,886                            | 13,515                        | 10,902                             |\n| Communication expenses                     | 147                         | 171                              | 677                          | 713                               |\n| Consultancy and professional charges      | 489                         | 387                              | 1,726                         | 1,684                              |\n| Depreciation and amortization expenses    | 1,163                       | 1,121                             | 4,678                         | 4,225                              |\n| Finance cost                              | 110                         | 82                               | 470                          | 284                               |\n| Other expenses                            | 985                         | 1,146                            | 4,716                         | 4,392                              |\n| **Total expenses**                        | **30,412**                   | **29,646**                         | **122,393**                   | **116,146**                         |\n| Profit before tax                         | 10,240                      | 8,466                             | 35,988                      | 33,322                             |\n| Current tax                               | 1,173                       | 2,260                             | 8,390                         | 9,287                              |\n| Deferred tax                              | 1,092                       | 72                               | 1,350                         | (73)                               |\n| **Profit for the period**                 | **7,975**                    | **6,134**                          | **26,248**                    | **24,108**                          |\n| Remeasurement of the net defined benefit liability/asset, net | 26                          | 25                               | 120                          | 8                                 |\n| Equity instruments through other comprehensive income, net | (12)                         | (15)                             | 19                           | (7)                                |\n| Fair value changes on derivatives designated as cash flow hedge, net | 28                          | 36                               | 11                           | (7)                                |\n| Fair value changes on investments, net    | 37                          | 42                               | 144                          | (256)                              |\n| **Total other comprehensive income /(loss), net of tax** | **(152)**                   | **149**                            | **520**                        | **514**                             |\n| **Total comprehensive income for the period** | **7,823**                    | **6,283**                          | **26,768**                    | **24,622**                          |\n| Profit attributable to Owners of the Company | 7,969                       | 6,128                             | 26,233                       | 24,095                             |\n| Profit attributable to Non-controlling interests | 6                           | 6                               | 15                           | 13                                |\n| **Total comprehensive income attributable to Owners of the Company** | **7,821**                    | **6,276**                          | **26,754**                    | **24,598**                          |\n| **Total comprehensive income attributable to Non-controlling interests** | **2**                         | **7**                              | **14**                         | **24**                              |\n| Basic (in ₹ per share)                   | 19.25                       | 14.79                             | 63.39                         | 57.63                              |\n| Diluted (in ₹ per share)                 | 19.22                       | 14.77                             | 63.29                         | 57.54                              |\n\n\n**Table 2: Statement of Changes in Equity (₹ crore)**\n\n| Particulars                                                                     | Balance as at April 1, 2022 | Impact on adoption of amendment to Ind AS 37# | Balance as at April 1, 2023 | Changes in equity for the year ended March 31, 2023 |\n|---------------------------------------------------------------------------------|-----------------------------|-------------------------------------------------|-----------------------------|------------------------------------------------------|\n| Capital reserve                                                                 | 2,098                         | —                                                | 2,098                         | —                                                    |\n| Capital redemption reserve                                                        | 54                          | —                                                | 54                          | —                                                    |\n| Securities Premium                                                              | 139                         | —                                                | 139                         | —                                                    |\n| Retained earnings                                                                | 61,313                       | (19)                                              | 61,294                       | 24,095                                               |\n| General reserve                                                                  | 1,061                        | —                                                | 1,061                        | —                                                    |\n| Share Options Outstanding Account                                                 | 606                         | —                                                | 606                         | —                                                    |\n| Special Economic Zone Re-investment reserve (2)                                 | 8,339                        | —                                                | 8,339                        | —                                                    |\n| Other reserves (3)                                                              | 16                          | —                                                | 16                          | —                                                    |\n| Equity instruments through other comprehensive income                           | 254                         | —                                                | 254                         | (7)                                                 |\n| Exchange differences on translating the financial statements of a foreign operation | 1,560                        | —                                                | 1,560                        | 765                                                |\n| Effective portion of Cash Flow Hedges                                            | 2                           | —                                                | 2                           | —                                                    |\n| Other items of other comprehensive income / (loss)                              | (292)                        | —                                                | (292)                        | 8                                                   |\n| **Total Equity**                                                                | **75,350**                    | **(19)**                                           | **75,331**                    | **24,108**                                              |"
          },
          "metadata": {}
        }
      ]
    },
    {
      "cell_type": "code",
      "source": [],
      "metadata": {
        "id": "r6rk0Iy51TdK"
      },
      "execution_count": null,
      "outputs": []
    }
  ]
}